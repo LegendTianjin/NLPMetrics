{
  "nbformat": 4,
  "nbformat_minor": 0,
  "metadata": {
    "colab": {
      "name": "Untitled0.ipynb",
      "version": "0.3.2",
      "provenance": [],
      "include_colab_link": true
    },
    "kernelspec": {
      "name": "python3",
      "display_name": "Python 3"
    }
  },
  "cells": [
    {
      "cell_type": "markdown",
      "metadata": {
        "id": "view-in-github",
        "colab_type": "text"
      },
      "source": [
        "<a href=\"https://colab.research.google.com/github/gcunhase/NLPMetrics/blob/master/notebooks/bleu.ipynb\" target=\"_parent\"><img src=\"https://colab.research.google.com/assets/colab-badge.svg\" alt=\"Open In Colab\"/></a>"
      ]
    },
    {
      "metadata": {
        "id": "cEvHsd4OnnO2",
        "colab_type": "text"
      },
      "cell_type": "markdown",
      "source": [
        "## BLEU: BiLingual Evaluation Understudy"
      ]
    },
    {
      "metadata": {
        "id": "_arqa6LRnzCL",
        "colab_type": "text"
      },
      "cell_type": "markdown",
      "source": [
        "### 1. Libraries\n",
        "*Install and import necessary libraries*\n"
      ]
    },
    {
      "metadata": {
        "id": "xFOnk5JdnuYQ",
        "colab_type": "code",
        "colab": {}
      },
      "cell_type": "code",
      "source": [
        ""
      ],
      "execution_count": 0,
      "outputs": []
    }
  ]
}